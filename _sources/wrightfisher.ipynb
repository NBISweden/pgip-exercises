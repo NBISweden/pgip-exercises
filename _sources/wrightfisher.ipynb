{
 "cells": [
  {
   "cell_type": "markdown",
   "id": "e5e28c3b",
   "metadata": {},
   "source": [
    "(sec_wrightfisher)=\n",
    "\n",
    "# Wright-Fisher model"
   ]
  }
 ],
 "metadata": {
  "jupytext": {
   "text_representation": {
    "extension": ".md",
    "format_name": "myst",
    "format_version": "0.13.2",
    "jupytext_version": "1.13.8"
   }
  },
  "kernelspec": {
   "display_name": "Python 3",
   "language": "ipython3",
   "name": "python3"
  },
  "language_info": {
   "codemirror_mode": {
    "name": "ipython",
    "version": 3
   },
   "file_extension": ".py",
   "mimetype": "text/x-python",
   "name": "python",
   "nbconvert_exporter": "python",
   "pygments_lexer": "ipython3",
   "version": "3.9.13"
  },
  "source_map": [
   12
  ]
 },
 "nbformat": 4,
 "nbformat_minor": 5
}