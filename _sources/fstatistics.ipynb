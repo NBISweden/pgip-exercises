{
 "cells": [
  {
   "cell_type": "code",
   "execution_count": 1,
   "id": "a34706db",
   "metadata": {
    "tags": [
     "remove-input",
     "remove-output"
    ]
   },
   "outputs": [],
   "source": [
    "bind 'set enable-bracketed-paste off'"
   ]
  },
  {
   "cell_type": "markdown",
   "id": "de4685ee",
   "metadata": {},
   "source": [
    "(sec_fstatistics)=\n",
    "\n",
    "# f-statistics #\n",
    "\n",
    "# Exercises #\n",
    "\n",
    "````{tab-set-code}\n",
    "\n",
    "\n",
    "```{code-block} shell\n",
    ":name: Dsuite\n",
    "pwd\n",
    "```\n",
    "\n",
    "```{code-block} ipython3\n",
    ":name: sgkit\n",
    "import sgkit\n",
    "```\n",
    "\n",
    "```{code} ipython3\n",
    ":name: msprime\n",
    "import msprime\n",
    "```\n",
    "\n",
    "````"
   ]
  },
  {
   "cell_type": "code",
   "execution_count": 2,
   "id": "b354eb6f",
   "metadata": {},
   "outputs": [
    {
     "name": "stdout",
     "output_type": "stream",
     "text": [
      "/home/runner/work/pgip-exercises/pgip-exercises\n"
     ]
    }
   ],
   "source": [
    "pwd"
   ]
  },
  {
   "cell_type": "markdown",
   "id": "c084386b",
   "metadata": {},
   "source": [
    "NOTE: Dsuite uses allele frequency estimates. Start example by\n",
    "calculating stuff by hand.\n",
    "\n",
    "\n",
    "Want also to relate the allele frequencies to branch lengths; cf\n",
    "Peters"
   ]
  }
 ],
 "metadata": {
  "jupytext": {
   "text_representation": {
    "extension": ".md",
    "format_name": "myst",
    "format_version": "0.13.2",
    "jupytext_version": "1.13.8"
   }
  },
  "kernelspec": {
   "display_name": "Bash",
   "language": "bash",
   "name": "bash"
  },
  "language_info": {
   "codemirror_mode": "shell",
   "file_extension": ".sh",
   "mimetype": "text/x-sh",
   "name": "bash"
  },
  "source_map": [
   15,
   18,
   47,
   49
  ]
 },
 "nbformat": 4,
 "nbformat_minor": 5
}