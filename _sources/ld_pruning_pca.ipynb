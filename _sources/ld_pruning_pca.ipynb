{
 "cells": [
  {
   "cell_type": "code",
   "execution_count": 1,
   "id": "0c02d50a",
   "metadata": {
    "tags": [
     "hide-output"
    ]
   },
   "outputs": [
    {
     "data": {
      "text/html": [
       "<div class=\"bk-root\">\n",
       "        <a href=\"https://bokeh.org\" target=\"_blank\" class=\"bk-logo bk-logo-small bk-logo-notebook\"></a>\n",
       "        <span id=\"1002\">Loading BokehJS ...</span>\n",
       "    </div>\n"
      ]
     },
     "metadata": {},
     "output_type": "display_data"
    },
    {
     "data": {
      "application/javascript": [
       "(function(root) {\n",
       "  function now() {\n",
       "    return new Date();\n",
       "  }\n",
       "\n",
       "  const force = true;\n",
       "\n",
       "  if (typeof root._bokeh_onload_callbacks === \"undefined\" || force === true) {\n",
       "    root._bokeh_onload_callbacks = [];\n",
       "    root._bokeh_is_loading = undefined;\n",
       "  }\n",
       "\n",
       "const JS_MIME_TYPE = 'application/javascript';\n",
       "  const HTML_MIME_TYPE = 'text/html';\n",
       "  const EXEC_MIME_TYPE = 'application/vnd.bokehjs_exec.v0+json';\n",
       "  const CLASS_NAME = 'output_bokeh rendered_html';\n",
       "\n",
       "  /**\n",
       "   * Render data to the DOM node\n",
       "   */\n",
       "  function render(props, node) {\n",
       "    const script = document.createElement(\"script\");\n",
       "    node.appendChild(script);\n",
       "  }\n",
       "\n",
       "  /**\n",
       "   * Handle when an output is cleared or removed\n",
       "   */\n",
       "  function handleClearOutput(event, handle) {\n",
       "    const cell = handle.cell;\n",
       "\n",
       "    const id = cell.output_area._bokeh_element_id;\n",
       "    const server_id = cell.output_area._bokeh_server_id;\n",
       "    // Clean up Bokeh references\n",
       "    if (id != null && id in Bokeh.index) {\n",
       "      Bokeh.index[id].model.document.clear();\n",
       "      delete Bokeh.index[id];\n",
       "    }\n",
       "\n",
       "    if (server_id !== undefined) {\n",
       "      // Clean up Bokeh references\n",
       "      const cmd_clean = \"from bokeh.io.state import curstate; print(curstate().uuid_to_server['\" + server_id + \"'].get_sessions()[0].document.roots[0]._id)\";\n",
       "      cell.notebook.kernel.execute(cmd_clean, {\n",
       "        iopub: {\n",
       "          output: function(msg) {\n",
       "            const id = msg.content.text.trim();\n",
       "            if (id in Bokeh.index) {\n",
       "              Bokeh.index[id].model.document.clear();\n",
       "              delete Bokeh.index[id];\n",
       "            }\n",
       "          }\n",
       "        }\n",
       "      });\n",
       "      // Destroy server and session\n",
       "      const cmd_destroy = \"import bokeh.io.notebook as ion; ion.destroy_server('\" + server_id + \"')\";\n",
       "      cell.notebook.kernel.execute(cmd_destroy);\n",
       "    }\n",
       "  }\n",
       "\n",
       "  /**\n",
       "   * Handle when a new output is added\n",
       "   */\n",
       "  function handleAddOutput(event, handle) {\n",
       "    const output_area = handle.output_area;\n",
       "    const output = handle.output;\n",
       "\n",
       "    // limit handleAddOutput to display_data with EXEC_MIME_TYPE content only\n",
       "    if ((output.output_type != \"display_data\") || (!Object.prototype.hasOwnProperty.call(output.data, EXEC_MIME_TYPE))) {\n",
       "      return\n",
       "    }\n",
       "\n",
       "    const toinsert = output_area.element.find(\".\" + CLASS_NAME.split(' ')[0]);\n",
       "\n",
       "    if (output.metadata[EXEC_MIME_TYPE][\"id\"] !== undefined) {\n",
       "      toinsert[toinsert.length - 1].firstChild.textContent = output.data[JS_MIME_TYPE];\n",
       "      // store reference to embed id on output_area\n",
       "      output_area._bokeh_element_id = output.metadata[EXEC_MIME_TYPE][\"id\"];\n",
       "    }\n",
       "    if (output.metadata[EXEC_MIME_TYPE][\"server_id\"] !== undefined) {\n",
       "      const bk_div = document.createElement(\"div\");\n",
       "      bk_div.innerHTML = output.data[HTML_MIME_TYPE];\n",
       "      const script_attrs = bk_div.children[0].attributes;\n",
       "      for (let i = 0; i < script_attrs.length; i++) {\n",
       "        toinsert[toinsert.length - 1].firstChild.setAttribute(script_attrs[i].name, script_attrs[i].value);\n",
       "        toinsert[toinsert.length - 1].firstChild.textContent = bk_div.children[0].textContent\n",
       "      }\n",
       "      // store reference to server id on output_area\n",
       "      output_area._bokeh_server_id = output.metadata[EXEC_MIME_TYPE][\"server_id\"];\n",
       "    }\n",
       "  }\n",
       "\n",
       "  function register_renderer(events, OutputArea) {\n",
       "\n",
       "    function append_mime(data, metadata, element) {\n",
       "      // create a DOM node to render to\n",
       "      const toinsert = this.create_output_subarea(\n",
       "        metadata,\n",
       "        CLASS_NAME,\n",
       "        EXEC_MIME_TYPE\n",
       "      );\n",
       "      this.keyboard_manager.register_events(toinsert);\n",
       "      // Render to node\n",
       "      const props = {data: data, metadata: metadata[EXEC_MIME_TYPE]};\n",
       "      render(props, toinsert[toinsert.length - 1]);\n",
       "      element.append(toinsert);\n",
       "      return toinsert\n",
       "    }\n",
       "\n",
       "    /* Handle when an output is cleared or removed */\n",
       "    events.on('clear_output.CodeCell', handleClearOutput);\n",
       "    events.on('delete.Cell', handleClearOutput);\n",
       "\n",
       "    /* Handle when a new output is added */\n",
       "    events.on('output_added.OutputArea', handleAddOutput);\n",
       "\n",
       "    /**\n",
       "     * Register the mime type and append_mime function with output_area\n",
       "     */\n",
       "    OutputArea.prototype.register_mime_type(EXEC_MIME_TYPE, append_mime, {\n",
       "      /* Is output safe? */\n",
       "      safe: true,\n",
       "      /* Index of renderer in `output_area.display_order` */\n",
       "      index: 0\n",
       "    });\n",
       "  }\n",
       "\n",
       "  // register the mime type if in Jupyter Notebook environment and previously unregistered\n",
       "  if (root.Jupyter !== undefined) {\n",
       "    const events = require('base/js/events');\n",
       "    const OutputArea = require('notebook/js/outputarea').OutputArea;\n",
       "\n",
       "    if (OutputArea.prototype.mime_types().indexOf(EXEC_MIME_TYPE) == -1) {\n",
       "      register_renderer(events, OutputArea);\n",
       "    }\n",
       "  }\n",
       "  if (typeof (root._bokeh_timeout) === \"undefined\" || force === true) {\n",
       "    root._bokeh_timeout = Date.now() + 5000;\n",
       "    root._bokeh_failed_load = false;\n",
       "  }\n",
       "\n",
       "  const NB_LOAD_WARNING = {'data': {'text/html':\n",
       "     \"<div style='background-color: #fdd'>\\n\"+\n",
       "     \"<p>\\n\"+\n",
       "     \"BokehJS does not appear to have successfully loaded. If loading BokehJS from CDN, this \\n\"+\n",
       "     \"may be due to a slow or bad network connection. Possible fixes:\\n\"+\n",
       "     \"</p>\\n\"+\n",
       "     \"<ul>\\n\"+\n",
       "     \"<li>re-rerun `output_notebook()` to attempt to load from CDN again, or</li>\\n\"+\n",
       "     \"<li>use INLINE resources instead, as so:</li>\\n\"+\n",
       "     \"</ul>\\n\"+\n",
       "     \"<code>\\n\"+\n",
       "     \"from bokeh.resources import INLINE\\n\"+\n",
       "     \"output_notebook(resources=INLINE)\\n\"+\n",
       "     \"</code>\\n\"+\n",
       "     \"</div>\"}};\n",
       "\n",
       "  function display_loaded() {\n",
       "    const el = document.getElementById(\"1002\");\n",
       "    if (el != null) {\n",
       "      el.textContent = \"BokehJS is loading...\";\n",
       "    }\n",
       "    if (root.Bokeh !== undefined) {\n",
       "      if (el != null) {\n",
       "        el.textContent = \"BokehJS \" + root.Bokeh.version + \" successfully loaded.\";\n",
       "      }\n",
       "    } else if (Date.now() < root._bokeh_timeout) {\n",
       "      setTimeout(display_loaded, 100)\n",
       "    }\n",
       "  }\n",
       "\n",
       "  function run_callbacks() {\n",
       "    try {\n",
       "      root._bokeh_onload_callbacks.forEach(function(callback) {\n",
       "        if (callback != null)\n",
       "          callback();\n",
       "      });\n",
       "    } finally {\n",
       "      delete root._bokeh_onload_callbacks\n",
       "    }\n",
       "    console.debug(\"Bokeh: all callbacks have finished\");\n",
       "  }\n",
       "\n",
       "  function load_libs(css_urls, js_urls, callback) {\n",
       "    if (css_urls == null) css_urls = [];\n",
       "    if (js_urls == null) js_urls = [];\n",
       "\n",
       "    root._bokeh_onload_callbacks.push(callback);\n",
       "    if (root._bokeh_is_loading > 0) {\n",
       "      console.debug(\"Bokeh: BokehJS is being loaded, scheduling callback at\", now());\n",
       "      return null;\n",
       "    }\n",
       "    if (js_urls == null || js_urls.length === 0) {\n",
       "      run_callbacks();\n",
       "      return null;\n",
       "    }\n",
       "    console.debug(\"Bokeh: BokehJS not loaded, scheduling load and callback at\", now());\n",
       "    root._bokeh_is_loading = css_urls.length + js_urls.length;\n",
       "\n",
       "    function on_load() {\n",
       "      root._bokeh_is_loading--;\n",
       "      if (root._bokeh_is_loading === 0) {\n",
       "        console.debug(\"Bokeh: all BokehJS libraries/stylesheets loaded\");\n",
       "        run_callbacks()\n",
       "      }\n",
       "    }\n",
       "\n",
       "    function on_error(url) {\n",
       "      console.error(\"failed to load \" + url);\n",
       "    }\n",
       "\n",
       "    for (let i = 0; i < css_urls.length; i++) {\n",
       "      const url = css_urls[i];\n",
       "      const element = document.createElement(\"link\");\n",
       "      element.onload = on_load;\n",
       "      element.onerror = on_error.bind(null, url);\n",
       "      element.rel = \"stylesheet\";\n",
       "      element.type = \"text/css\";\n",
       "      element.href = url;\n",
       "      console.debug(\"Bokeh: injecting link tag for BokehJS stylesheet: \", url);\n",
       "      document.body.appendChild(element);\n",
       "    }\n",
       "\n",
       "    for (let i = 0; i < js_urls.length; i++) {\n",
       "      const url = js_urls[i];\n",
       "      const element = document.createElement('script');\n",
       "      element.onload = on_load;\n",
       "      element.onerror = on_error.bind(null, url);\n",
       "      element.async = false;\n",
       "      element.src = url;\n",
       "      console.debug(\"Bokeh: injecting script tag for BokehJS library: \", url);\n",
       "      document.head.appendChild(element);\n",
       "    }\n",
       "  };\n",
       "\n",
       "  function inject_raw_css(css) {\n",
       "    const element = document.createElement(\"style\");\n",
       "    element.appendChild(document.createTextNode(css));\n",
       "    document.body.appendChild(element);\n",
       "  }\n",
       "\n",
       "  const js_urls = [\"https://cdn.bokeh.org/bokeh/release/bokeh-2.4.3.min.js\", \"https://cdn.bokeh.org/bokeh/release/bokeh-gl-2.4.3.min.js\", \"https://cdn.bokeh.org/bokeh/release/bokeh-widgets-2.4.3.min.js\", \"https://cdn.bokeh.org/bokeh/release/bokeh-tables-2.4.3.min.js\", \"https://cdn.bokeh.org/bokeh/release/bokeh-mathjax-2.4.3.min.js\"];\n",
       "  const css_urls = [];\n",
       "\n",
       "  const inline_js = [    function(Bokeh) {\n",
       "      Bokeh.set_log_level(\"info\");\n",
       "    },\n",
       "function(Bokeh) {\n",
       "    }\n",
       "  ];\n",
       "\n",
       "  function run_inline_js() {\n",
       "    if (root.Bokeh !== undefined || force === true) {\n",
       "          for (let i = 0; i < inline_js.length; i++) {\n",
       "      inline_js[i].call(root, root.Bokeh);\n",
       "    }\n",
       "if (force === true) {\n",
       "        display_loaded();\n",
       "      }} else if (Date.now() < root._bokeh_timeout) {\n",
       "      setTimeout(run_inline_js, 100);\n",
       "    } else if (!root._bokeh_failed_load) {\n",
       "      console.log(\"Bokeh: BokehJS failed to load within specified timeout.\");\n",
       "      root._bokeh_failed_load = true;\n",
       "    } else if (force !== true) {\n",
       "      const cell = $(document.getElementById(\"1002\")).parents('.cell').data().cell;\n",
       "      cell.output_area.append_execute_result(NB_LOAD_WARNING)\n",
       "    }\n",
       "  }\n",
       "\n",
       "  if (root._bokeh_is_loading === 0) {\n",
       "    console.debug(\"Bokeh: BokehJS loaded, going straight to plotting\");\n",
       "    run_inline_js();\n",
       "  } else {\n",
       "    load_libs(css_urls, js_urls, function() {\n",
       "      console.debug(\"Bokeh: BokehJS plotting callback run at\", now());\n",
       "      run_inline_js();\n",
       "    });\n",
       "  }\n",
       "}(window));"
      ],
      "application/vnd.bokehjs_load.v0+json": "(function(root) {\n  function now() {\n    return new Date();\n  }\n\n  const force = true;\n\n  if (typeof root._bokeh_onload_callbacks === \"undefined\" || force === true) {\n    root._bokeh_onload_callbacks = [];\n    root._bokeh_is_loading = undefined;\n  }\n\n\n  if (typeof (root._bokeh_timeout) === \"undefined\" || force === true) {\n    root._bokeh_timeout = Date.now() + 5000;\n    root._bokeh_failed_load = false;\n  }\n\n  const NB_LOAD_WARNING = {'data': {'text/html':\n     \"<div style='background-color: #fdd'>\\n\"+\n     \"<p>\\n\"+\n     \"BokehJS does not appear to have successfully loaded. If loading BokehJS from CDN, this \\n\"+\n     \"may be due to a slow or bad network connection. Possible fixes:\\n\"+\n     \"</p>\\n\"+\n     \"<ul>\\n\"+\n     \"<li>re-rerun `output_notebook()` to attempt to load from CDN again, or</li>\\n\"+\n     \"<li>use INLINE resources instead, as so:</li>\\n\"+\n     \"</ul>\\n\"+\n     \"<code>\\n\"+\n     \"from bokeh.resources import INLINE\\n\"+\n     \"output_notebook(resources=INLINE)\\n\"+\n     \"</code>\\n\"+\n     \"</div>\"}};\n\n  function display_loaded() {\n    const el = document.getElementById(\"1002\");\n    if (el != null) {\n      el.textContent = \"BokehJS is loading...\";\n    }\n    if (root.Bokeh !== undefined) {\n      if (el != null) {\n        el.textContent = \"BokehJS \" + root.Bokeh.version + \" successfully loaded.\";\n      }\n    } else if (Date.now() < root._bokeh_timeout) {\n      setTimeout(display_loaded, 100)\n    }\n  }\n\n  function run_callbacks() {\n    try {\n      root._bokeh_onload_callbacks.forEach(function(callback) {\n        if (callback != null)\n          callback();\n      });\n    } finally {\n      delete root._bokeh_onload_callbacks\n    }\n    console.debug(\"Bokeh: all callbacks have finished\");\n  }\n\n  function load_libs(css_urls, js_urls, callback) {\n    if (css_urls == null) css_urls = [];\n    if (js_urls == null) js_urls = [];\n\n    root._bokeh_onload_callbacks.push(callback);\n    if (root._bokeh_is_loading > 0) {\n      console.debug(\"Bokeh: BokehJS is being loaded, scheduling callback at\", now());\n      return null;\n    }\n    if (js_urls == null || js_urls.length === 0) {\n      run_callbacks();\n      return null;\n    }\n    console.debug(\"Bokeh: BokehJS not loaded, scheduling load and callback at\", now());\n    root._bokeh_is_loading = css_urls.length + js_urls.length;\n\n    function on_load() {\n      root._bokeh_is_loading--;\n      if (root._bokeh_is_loading === 0) {\n        console.debug(\"Bokeh: all BokehJS libraries/stylesheets loaded\");\n        run_callbacks()\n      }\n    }\n\n    function on_error(url) {\n      console.error(\"failed to load \" + url);\n    }\n\n    for (let i = 0; i < css_urls.length; i++) {\n      const url = css_urls[i];\n      const element = document.createElement(\"link\");\n      element.onload = on_load;\n      element.onerror = on_error.bind(null, url);\n      element.rel = \"stylesheet\";\n      element.type = \"text/css\";\n      element.href = url;\n      console.debug(\"Bokeh: injecting link tag for BokehJS stylesheet: \", url);\n      document.body.appendChild(element);\n    }\n\n    for (let i = 0; i < js_urls.length; i++) {\n      const url = js_urls[i];\n      const element = document.createElement('script');\n      element.onload = on_load;\n      element.onerror = on_error.bind(null, url);\n      element.async = false;\n      element.src = url;\n      console.debug(\"Bokeh: injecting script tag for BokehJS library: \", url);\n      document.head.appendChild(element);\n    }\n  };\n\n  function inject_raw_css(css) {\n    const element = document.createElement(\"style\");\n    element.appendChild(document.createTextNode(css));\n    document.body.appendChild(element);\n  }\n\n  const js_urls = [\"https://cdn.bokeh.org/bokeh/release/bokeh-2.4.3.min.js\", \"https://cdn.bokeh.org/bokeh/release/bokeh-gl-2.4.3.min.js\", \"https://cdn.bokeh.org/bokeh/release/bokeh-widgets-2.4.3.min.js\", \"https://cdn.bokeh.org/bokeh/release/bokeh-tables-2.4.3.min.js\", \"https://cdn.bokeh.org/bokeh/release/bokeh-mathjax-2.4.3.min.js\"];\n  const css_urls = [];\n\n  const inline_js = [    function(Bokeh) {\n      Bokeh.set_log_level(\"info\");\n    },\nfunction(Bokeh) {\n    }\n  ];\n\n  function run_inline_js() {\n    if (root.Bokeh !== undefined || force === true) {\n          for (let i = 0; i < inline_js.length; i++) {\n      inline_js[i].call(root, root.Bokeh);\n    }\nif (force === true) {\n        display_loaded();\n      }} else if (Date.now() < root._bokeh_timeout) {\n      setTimeout(run_inline_js, 100);\n    } else if (!root._bokeh_failed_load) {\n      console.log(\"Bokeh: BokehJS failed to load within specified timeout.\");\n      root._bokeh_failed_load = true;\n    } else if (force !== true) {\n      const cell = $(document.getElementById(\"1002\")).parents('.cell').data().cell;\n      cell.output_area.append_execute_result(NB_LOAD_WARNING)\n    }\n  }\n\n  if (root._bokeh_is_loading === 0) {\n    console.debug(\"Bokeh: BokehJS loaded, going straight to plotting\");\n    run_inline_js();\n  } else {\n    load_libs(css_urls, js_urls, function() {\n      console.debug(\"Bokeh: BokehJS plotting callback run at\", now());\n      run_inline_js();\n    });\n  }\n}(window));"
     },
     "metadata": {},
     "output_type": "display_data"
    }
   ],
   "source": [
    "from bokeh.plotting import figure, show, output_notebook\n",
    "from pgip import utils\n",
    "output_notebook()"
   ]
  },
  {
   "cell_type": "markdown",
   "id": "14d2605e",
   "metadata": {},
   "source": [
    "```{note}\n",
    "- We assume that the input data has already been filtered and pre-processed to obtain a high-quality variant call set. See [](sec_variantfiltering).\n",
    "- sgkit pca method does not support missing data - add example?\n",
    "```\n",
    "\n",
    "(sec_ld_pruning_pca)=\n",
    "\n",
    "# Principal component analysis\n",
    "\n",
    "Variant data is high-dimensional and some sort of dimensionality\n",
    "reduction is often employed to provide a condensed overview of the\n",
    "data and as a means to identify potential population structure.\n",
    "Principal component analysis (PCA) is one common technique usually\n",
    "applied to genetic variation data (e.g.\n",
    "{cite}`patterson_PopulationStructureEigenanalysis_2006`).\n",
    "\n",
    "For large data sets, it is common practice to first prune the data to\n",
    "remove correlation between data points. In this exercise, you will\n",
    "prune the data using either [plink](sec_pca_with_plink) or\n",
    "[sgkit](sec_pca_with_sgkit) code snippets.\n",
    "\n",
    "## Data preparation\n",
    "\n",
    "```{admonition} FIXME\n",
    ":class: warning\n",
    "sgkit is likely too cumbersome? Keep as reference for now, use EIGENSOFT or plink for pruning and pca.\n",
    "\n",
    "```"
   ]
  },
  {
   "cell_type": "code",
   "execution_count": 2,
   "id": "c5493254",
   "metadata": {},
   "outputs": [],
   "source": [
    "import os\n",
    "import sgkit as sg\n",
    "from sgkit.io import vcf as sgvcf"
   ]
  },
  {
   "cell_type": "markdown",
   "id": "679a3690",
   "metadata": {},
   "source": [
    "Then make output directories and convert vcf to the zarr format."
   ]
  },
  {
   "cell_type": "code",
   "execution_count": 3,
   "id": "450773fc",
   "metadata": {},
   "outputs": [],
   "source": [
    "outdir = \"exercises/ld_pruning\"\n",
    "os.makedirs(outdir, exist_ok=True)\n",
    "vcf = \"data/ooa/ooa.gatk.vcf.gz\"\n",
    "zarr = os.path.join(outdir, \"ooa.gatk.zarr\")\n",
    "sgvcf.vcf_to_zarr(vcf, zarr)"
   ]
  },
  {
   "cell_type": "markdown",
   "id": "63079e08",
   "metadata": {},
   "source": [
    "We load the data and remember the original chunk size (needed\n",
    "internally for sgkit):"
   ]
  },
  {
   "cell_type": "code",
   "execution_count": 4,
   "id": "0106814c",
   "metadata": {},
   "outputs": [
    {
     "data": {
      "text/plain": [
       "648"
      ]
     },
     "metadata": {
      "scrapbook": {
       "mime_prefix": "",
       "name": "nvar"
      }
     },
     "output_type": "display_data"
    }
   ],
   "source": [
    "from myst_nb import glue\n",
    "ds = sg.load_dataset(zarr)\n",
    "original_chunk_size = ds.chunks[\"variants\"][0]\n",
    "glue(\"nvar\", len(ds.variants))"
   ]
  },
  {
   "cell_type": "markdown",
   "id": "744155dc",
   "metadata": {},
   "source": [
    "## Linkage disequilibrium structure\n",
    "\n",
    "Before pruning the data, we make a plot of the LD structure. We will\n",
    "use `python` for plotting and first load the necessary libraries:\n",
    "\n",
    "## Linkage disequilibrium pruning\n",
    "\n",
    "Depending on the number of variants, it may be necessary to work on a\n",
    "subset of variants. Here with only {glue:}`nvar` variants we skip this\n",
    "step.\n",
    "\n",
    "For pruning, we first need to calculate the dosage:"
   ]
  },
  {
   "cell_type": "code",
   "execution_count": 5,
   "id": "f8045fd0",
   "metadata": {},
   "outputs": [],
   "source": [
    "ds['dosage'] = ds['call_genotype'].sum(dim='ploidy')"
   ]
  },
  {
   "cell_type": "markdown",
   "id": "08e6861a",
   "metadata": {},
   "source": [
    "and then divide into windows by variants:"
   ]
  },
  {
   "cell_type": "code",
   "execution_count": 6,
   "id": "709deae0",
   "metadata": {},
   "outputs": [],
   "source": [
    "# ds = sg.window_by_variant(ds, size=200)\n",
    "# print(ds)"
   ]
  },
  {
   "cell_type": "markdown",
   "id": "a67042cf",
   "metadata": {},
   "source": [
    "## PCA\n",
    "\n",
    "Before proceeding with the pca, we need to compute quality control\n",
    "variant statistics from genotype calls followed by calculation of and\n",
    "filtering on allele frequencies.\n",
    "\n",
    "<!-- See https://github.com/pystatgen/sgkit/issues/752 -->\n",
    "<!-- All the pca code is based on that example -->"
   ]
  },
  {
   "cell_type": "code",
   "execution_count": 7,
   "id": "393e7399",
   "metadata": {},
   "outputs": [],
   "source": [
    "ds = sg.variant_stats(ds)\n",
    "\n",
    "ds = ds.assign(**ds[[\"variant_allele_frequency\"]].compute()).pipe(\n",
    "lambda ds: ds.sel(variants=(ds.variant_allele_frequency[:, 1] > 0.01))\n",
    ")\n",
    "ds = ds.chunk(original_chunk_size)"
   ]
  },
  {
   "cell_type": "markdown",
   "id": "87f8dbcd",
   "metadata": {},
   "source": [
    "Now we can perform pca."
   ]
  },
  {
   "cell_type": "code",
   "execution_count": 8,
   "id": "c0db12b2",
   "metadata": {},
   "outputs": [],
   "source": [
    "# Transform genotype call into number of non-reference alleles\n",
    "ds_pca = sg.stats.pca.count_call_alternate_alleles(ds)\n",
    "# Ensure data has positive variance across samples\n",
    "variant_mask = ((ds_pca.call_alternate_allele_count < 0).any(dim=\"samples\")) | (\n",
    "ds_pca.call_alternate_allele_count.std(dim=\"samples\") <= 0.0\n",
    ")\n",
    "\n",
    "ds_pca = ds_pca.sel(variants=~variant_mask)\n",
    "ds_pca[\"call_alternate_allele_count\"] = ds_pca.call_alternate_allele_count.chunk(\n",
    "(None, -1)\n",
    ")\n",
    "ds_pca = sg.pca(ds_pca, n_components=10)"
   ]
  },
  {
   "cell_type": "markdown",
   "id": "9c40295a",
   "metadata": {},
   "source": [
    "We convert the data structure to a pandas dataframe and add various\n",
    "metadata, such as sample and population names."
   ]
  },
  {
   "cell_type": "code",
   "execution_count": 9,
   "id": "3770ef6d",
   "metadata": {},
   "outputs": [],
   "source": [
    "explained = ds_pca.sample_pca_explained_variance_ratio.values * 100\n",
    "df = (\n",
    "ds_pca.sample_pca_projection.to_dataframe()\n",
    ".reset_index()\n",
    ".pivot(index=\"samples\", columns=\"components\")\n",
    ")\n",
    "df.index.names = [\"sample\"]\n",
    "df.columns = [f\"PC{i+1}\" for _, i in df.columns]\n",
    "df.reset_index(inplace=True)\n",
    "df[\"sample\"] = ds_pca.sample_id[df[\"sample\"].values].values\n",
    "df[\"population\"] = df[\"sample\"].str.slice(0, 3)\n",
    "colors = dict(zip(set(df[\"population\"]), utils._get_palette(n=3)))\n",
    "df[\"color\"] = [colors[x] for x in df[\"population\"]]"
   ]
  },
  {
   "cell_type": "markdown",
   "id": "67ed6e84",
   "metadata": {},
   "source": [
    "For the purpose of this exercise, we want to also investigate the\n",
    "effect of sequencing coverage."
   ]
  },
  {
   "cell_type": "code",
   "execution_count": 10,
   "id": "1c58aadb",
   "metadata": {},
   "outputs": [
    {
     "name": "stderr",
     "output_type": "stream",
     "text": [
      "/tmp/ipykernel_6026/465319288.py:5: FutureWarning: Dropping of nuisance columns in DataFrame reductions (with 'numeric_only=None') is deprecated; in a future version this will raise TypeError.  Select only valid columns before calling the reduction.\n",
      "  coverage = pd.read_table(io.StringIO(output.decode()), header=None).mean(axis=0)\n"
     ]
    }
   ],
   "source": [
    "import io\n",
    "import pandas as pd\n",
    "import subprocess\n",
    "output = subprocess.check_output(\"samtools depth -a data/ooa/*.bam\", shell=True)\n",
    "coverage = pd.read_table(io.StringIO(output.decode()), header=None).mean(axis=0)\n",
    "df[\"coverage\"] = coverage[1:]"
   ]
  },
  {
   "cell_type": "markdown",
   "id": "d25e30f8",
   "metadata": {},
   "source": [
    "Finally, we can plot the pca with bokeh."
   ]
  },
  {
   "cell_type": "code",
   "execution_count": 11,
   "id": "986c2429",
   "metadata": {},
   "outputs": [
    {
     "data": {
      "text/html": [
       "\n",
       "<div class=\"bk-root\" id=\"b1fbb2f8-0bdc-4c89-b2f2-c618e9aa6f56\" data-root-id=\"1207\"></div>\n"
      ]
     },
     "metadata": {},
     "output_type": "display_data"
    },
    {
     "data": {
      "application/javascript": [
       "(function(root) {\n",
       "  function embed_document(root) {\n",
       "  const docs_json = {\"f4e390b0-9777-4446-8ec9-182b8a0276c5\":{\"defs\":[],\"roots\":{\"references\":[{\"attributes\":{\"children\":[{\"id\":\"1206\"},{\"id\":\"1204\"}]},\"id\":\"1207\",\"type\":\"Column\"},{\"attributes\":{\"bottom_units\":\"screen\",\"coordinates\":null,\"fill_alpha\":0.5,\"fill_color\":\"lightgrey\",\"group\":null,\"left_units\":\"screen\",\"level\":\"overlay\",\"line_alpha\":1.0,\"line_color\":\"black\",\"line_dash\":[4,4],\"line_width\":2,\"right_units\":\"screen\",\"syncable\":false,\"top_units\":\"screen\"},\"id\":\"1141\",\"type\":\"BoxAnnotation\"},{\"attributes\":{},\"id\":\"1164\",\"type\":\"UnionRenderers\"},{\"attributes\":{\"fill_alpha\":{\"value\":0.1},\"fill_color\":{\"field\":\"color\"},\"hatch_alpha\":{\"value\":0.1},\"hatch_color\":{\"field\":\"color\"},\"line_alpha\":{\"value\":0.1},\"size\":{\"value\":15},\"x\":{\"field\":\"PC2\"},\"y\":{\"field\":\"PC3\"}},\"id\":\"1153\",\"type\":\"Circle\"},{\"attributes\":{\"index\":4,\"label\":{\"value\":\"CHB\"},\"renderers\":[{\"id\":\"1155\"}]},\"id\":\"1169\",\"type\":\"LegendItem\"},{\"attributes\":{},\"id\":\"1165\",\"type\":\"Selection\"},{\"attributes\":{\"children\":[[{\"id\":\"1004\"},0,0],[{\"id\":\"1060\"},0,1],[{\"id\":\"1116\"},1,0]]},\"id\":\"1204\",\"type\":\"GridBox\"},{\"attributes\":{\"toolbars\":[{\"id\":\"1031\"},{\"id\":\"1087\"},{\"id\":\"1143\"}],\"tools\":[{\"id\":\"1023\"},{\"id\":\"1024\"},{\"id\":\"1025\"},{\"id\":\"1026\"},{\"id\":\"1027\"},{\"id\":\"1028\"},{\"id\":\"1030\"},{\"id\":\"1079\"},{\"id\":\"1080\"},{\"id\":\"1081\"},{\"id\":\"1082\"},{\"id\":\"1083\"},{\"id\":\"1084\"},{\"id\":\"1086\"},{\"id\":\"1135\"},{\"id\":\"1136\"},{\"id\":\"1137\"},{\"id\":\"1138\"},{\"id\":\"1139\"},{\"id\":\"1140\"},{\"id\":\"1142\"}]},\"id\":\"1205\",\"type\":\"ProxyToolbar\"},{\"attributes\":{\"tools\":[{\"id\":\"1135\"},{\"id\":\"1136\"},{\"id\":\"1137\"},{\"id\":\"1138\"},{\"id\":\"1139\"},{\"id\":\"1140\"},{\"id\":\"1142\"}]},\"id\":\"1143\",\"type\":\"Toolbar\"},{\"attributes\":{\"source\":{\"id\":\"1115\"}},\"id\":\"1156\",\"type\":\"CDSView\"},{\"attributes\":{\"coordinates\":null,\"data_source\":{\"id\":\"1115\"},\"glyph\":{\"id\":\"1152\"},\"group\":null,\"hover_glyph\":null,\"muted_glyph\":{\"id\":\"1154\"},\"nonselection_glyph\":{\"id\":\"1153\"},\"view\":{\"id\":\"1156\"}},\"id\":\"1155\",\"type\":\"GlyphRenderer\"},{\"attributes\":{\"fill_alpha\":{\"value\":0.2},\"fill_color\":{\"field\":\"color\"},\"hatch_alpha\":{\"value\":0.2},\"hatch_color\":{\"field\":\"color\"},\"line_alpha\":{\"value\":0.2},\"size\":{\"value\":15},\"x\":{\"field\":\"PC2\"},\"y\":{\"field\":\"PC3\"}},\"id\":\"1154\",\"type\":\"Circle\"},{\"attributes\":{\"coordinates\":null,\"group\":null,\"items\":[{\"id\":\"1168\"},{\"id\":\"1169\"},{\"id\":\"1170\"}]},\"id\":\"1167\",\"type\":\"Legend\"},{\"attributes\":{\"toolbar\":{\"id\":\"1205\"},\"toolbar_location\":\"above\"},\"id\":\"1206\",\"type\":\"ToolbarBox\"},{\"attributes\":{\"below\":[{\"id\":\"1015\"}],\"center\":[{\"id\":\"1018\"},{\"id\":\"1022\"},{\"id\":\"1055\"}],\"height\":400,\"left\":[{\"id\":\"1019\"}],\"renderers\":[{\"id\":\"1043\"}],\"right\":[{\"id\":\"1055\"}],\"title\":{\"id\":\"1005\"},\"toolbar\":{\"id\":\"1031\"},\"toolbar_location\":null,\"width\":400,\"x_range\":{\"id\":\"1007\"},\"x_scale\":{\"id\":\"1011\"},\"y_range\":{\"id\":\"1009\"},\"y_scale\":{\"id\":\"1013\"}},\"id\":\"1004\",\"subtype\":\"Figure\",\"type\":\"Plot\"},{\"attributes\":{\"index\":0,\"label\":{\"value\":\"CEU\"},\"renderers\":[{\"id\":\"1043\"}]},\"id\":\"1056\",\"type\":\"LegendItem\"},{\"attributes\":{\"below\":[{\"id\":\"1071\"}],\"center\":[{\"id\":\"1074\"},{\"id\":\"1078\"},{\"id\":\"1111\"}],\"height\":400,\"left\":[{\"id\":\"1075\"}],\"renderers\":[{\"id\":\"1099\"}],\"right\":[{\"id\":\"1111\"}],\"title\":{\"id\":\"1061\"},\"toolbar\":{\"id\":\"1087\"},\"toolbar_location\":null,\"width\":400,\"x_range\":{\"id\":\"1063\"},\"x_scale\":{\"id\":\"1067\"},\"y_range\":{\"id\":\"1065\"},\"y_scale\":{\"id\":\"1069\"}},\"id\":\"1060\",\"subtype\":\"Figure\",\"type\":\"Plot\"},{\"attributes\":{},\"id\":\"1160\",\"type\":\"AllLabels\"},{\"attributes\":{},\"id\":\"1083\",\"type\":\"ResetTool\"},{\"attributes\":{},\"id\":\"1011\",\"type\":\"LinearScale\"},{\"attributes\":{\"index\":4,\"label\":{\"value\":\"CHB\"},\"renderers\":[{\"id\":\"1043\"}]},\"id\":\"1057\",\"type\":\"LegendItem\"},{\"attributes\":{\"data\":{\"PC1\":{\"__ndarray__\":\"o9RFQdd2BkHQxztBDM2gwQPUWcGPDa3AMfIXwYz0Az/Yet9AAtcJQQ==\",\"dtype\":\"float32\",\"order\":\"little\",\"shape\":[10]},\"PC10\":{\"__ndarray__\":\"AAD0tQAAB7YAABq2AAAWtgAAMLYAAMS1AAAUtgAA+LUAwAW2AIACtg==\",\"dtype\":\"float32\",\"order\":\"little\",\"shape\":[10]},\"PC2\":{\"__ndarray__\":\"o4nNwJpKhsCgvqu+azLQwHP1BcE2vL5B+uo7QLY7dcB+rpjAehP1QA==\",\"dtype\":\"float32\",\"order\":\"little\",\"shape\":[10]},\"PC3\":{\"__ndarray__\":\"0d3BwIKKT79jjDJAoLw1vhO43cCH9SrBlD+WQf6eqsD/jJG/9u4YQQ==\",\"dtype\":\"float32\",\"order\":\"little\",\"shape\":[10]},\"PC4\":{\"__ndarray__\":\"XTNWwaPDi8BH7VC/oU4bwRgexEDJaR7ABF5Lvy7agUEc2KJABieDQA==\",\"dtype\":\"float32\",\"order\":\"little\",\"shape\":[10]},\"PC5\":{\"__ndarray__\":\"O8siQHqPpUAwU/u//vYSwQD65LzP1UZAFYgzQaokBkBMquU/siJswQ==\",\"dtype\":\"float32\",\"order\":\"little\",\"shape\":[10]},\"PC6\":{\"__ndarray__\":\"Kb3dQHLSIj9MUVHAEMedvylA8b6yo7G/neXnP6b1D0HcdHLBzAlJQA==\",\"dtype\":\"float32\",\"order\":\"little\",\"shape\":[10]},\"PC7\":{\"__ndarray__\":\"HteRwLrMRkEtGXjAMDqQwC67CEGURI++csbPvyq90MDiBHPAqTOGQA==\",\"dtype\":\"float32\",\"order\":\"little\",\"shape\":[10]},\"PC8\":{\"__ndarray__\":\"OW58wESzjr+kv3NBwzcgv7ZOekAgnIE8SOo/vzKDsL8MieDAJ5aKwA==\",\"dtype\":\"float32\",\"order\":\"little\",\"shape\":[10]},\"PC9\":{\"__ndarray__\":\"XjjeQJ/yHcEVI0q/OmfOwC5rGUGoNT++oecVQHjgq8BRMF8/zgQ7QA==\",\"dtype\":\"float32\",\"order\":\"little\",\"shape\":[10]},\"color\":[\"#8dd3c7\",\"#8dd3c7\",\"#8dd3c7\",\"#8dd3c7\",\"#ffed6f\",\"#ffed6f\",\"#ffed6f\",\"#d6ca66\",\"#d6ca66\",\"#d6ca66\"],\"coverage\":{\"__ndarray__\":\"AAAAAAAA+H8AAAAAAAD4f5nwS/286SBAK01KQbc3JEDogvqWOb0lQFMFo5I6kT9AcEIhAg5BJkAzbf/KShMeQFXZd0XwHyVAkwA1tWxNIkA=\",\"dtype\":\"float64\",\"order\":\"little\",\"shape\":[10]},\"index\":[0,1,2,3,4,5,6,7,8,9],\"population\":[\"CEU\",\"CEU\",\"CEU\",\"CEU\",\"CHB\",\"CHB\",\"CHB\",\"YRI\",\"YRI\",\"YRI\"],\"sample\":[\"CEU-0\",\"CEU-1\",\"CEU-2\",\"CEU-3\",\"CHB-0\",\"CHB-1\",\"CHB-2\",\"YRI-0\",\"YRI-1\",\"YRI-2\"]},\"selected\":{\"id\":\"1053\"},\"selection_policy\":{\"id\":\"1052\"}},\"id\":\"1003\",\"type\":\"ColumnDataSource\"},{\"attributes\":{},\"id\":\"1162\",\"type\":\"BasicTickFormatter\"},{\"attributes\":{\"index\":7,\"label\":{\"value\":\"YRI\"},\"renderers\":[{\"id\":\"1043\"}]},\"id\":\"1058\",\"type\":\"LegendItem\"},{\"attributes\":{\"bottom_units\":\"screen\",\"coordinates\":null,\"fill_alpha\":0.5,\"fill_color\":\"lightgrey\",\"group\":null,\"left_units\":\"screen\",\"level\":\"overlay\",\"line_alpha\":1.0,\"line_color\":\"black\",\"line_dash\":[4,4],\"line_width\":2,\"right_units\":\"screen\",\"syncable\":false,\"top_units\":\"screen\"},\"id\":\"1085\",\"type\":\"BoxAnnotation\"},{\"attributes\":{},\"id\":\"1027\",\"type\":\"ResetTool\"},{\"attributes\":{},\"id\":\"1163\",\"type\":\"AllLabels\"},{\"attributes\":{\"axis_label\":\"PC1 (22.7%)\",\"coordinates\":null,\"formatter\":{\"id\":\"1050\"},\"group\":null,\"major_label_policy\":{\"id\":\"1051\"},\"ticker\":{\"id\":\"1016\"}},\"id\":\"1015\",\"type\":\"LinearAxis\"},{\"attributes\":{},\"id\":\"1063\",\"type\":\"DataRange1d\"},{\"attributes\":{\"fill_alpha\":{\"value\":0.8},\"fill_color\":{\"field\":\"color\"},\"hatch_alpha\":{\"value\":0.8},\"hatch_color\":{\"field\":\"color\"},\"line_alpha\":{\"value\":0.8},\"size\":{\"value\":15},\"x\":{\"field\":\"PC1\"},\"y\":{\"field\":\"PC3\"}},\"id\":\"1096\",\"type\":\"Circle\"},{\"attributes\":{},\"id\":\"1069\",\"type\":\"LinearScale\"},{\"attributes\":{\"overlay\":{\"id\":\"1029\"}},\"id\":\"1025\",\"type\":\"BoxZoomTool\"},{\"attributes\":{},\"id\":\"1026\",\"type\":\"SaveTool\"},{\"attributes\":{},\"id\":\"1159\",\"type\":\"BasicTickFormatter\"},{\"attributes\":{},\"id\":\"1024\",\"type\":\"WheelZoomTool\"},{\"attributes\":{\"index\":0,\"label\":{\"value\":\"CEU\"},\"renderers\":[{\"id\":\"1155\"}]},\"id\":\"1168\",\"type\":\"LegendItem\"},{\"attributes\":{},\"id\":\"1079\",\"type\":\"PanTool\"},{\"attributes\":{\"axis\":{\"id\":\"1019\"},\"coordinates\":null,\"dimension\":1,\"group\":null,\"ticker\":null},\"id\":\"1022\",\"type\":\"Grid\"},{\"attributes\":{\"fill_alpha\":{\"value\":0.8},\"fill_color\":{\"field\":\"color\"},\"hatch_alpha\":{\"value\":0.8},\"hatch_color\":{\"field\":\"color\"},\"line_alpha\":{\"value\":0.8},\"size\":{\"value\":15},\"x\":{\"field\":\"PC1\"},\"y\":{\"field\":\"PC2\"}},\"id\":\"1040\",\"type\":\"Circle\"},{\"attributes\":{},\"id\":\"1020\",\"type\":\"BasicTicker\"},{\"attributes\":{\"index\":7,\"label\":{\"value\":\"YRI\"},\"renderers\":[{\"id\":\"1155\"}]},\"id\":\"1170\",\"type\":\"LegendItem\"},{\"attributes\":{},\"id\":\"1023\",\"type\":\"PanTool\"},{\"attributes\":{\"overlay\":{\"id\":\"1085\"}},\"id\":\"1081\",\"type\":\"BoxZoomTool\"},{\"attributes\":{},\"id\":\"1082\",\"type\":\"SaveTool\"},{\"attributes\":{},\"id\":\"1084\",\"type\":\"HelpTool\"},{\"attributes\":{},\"id\":\"1007\",\"type\":\"DataRange1d\"},{\"attributes\":{\"axis\":{\"id\":\"1015\"},\"coordinates\":null,\"group\":null,\"ticker\":null},\"id\":\"1018\",\"type\":\"Grid\"},{\"attributes\":{\"axis\":{\"id\":\"1075\"},\"coordinates\":null,\"dimension\":1,\"group\":null,\"ticker\":null},\"id\":\"1078\",\"type\":\"Grid\"},{\"attributes\":{},\"id\":\"1076\",\"type\":\"BasicTicker\"},{\"attributes\":{\"callback\":null,\"tooltips\":[[\"sample\",\"@sample\"],[\"population\",\"@population\"],[\"coverage\",\"@coverage\"]]},\"id\":\"1030\",\"type\":\"HoverTool\"},{\"attributes\":{\"axis_label\":\"PC3 (13.0%)\",\"coordinates\":null,\"formatter\":{\"id\":\"1103\"},\"group\":null,\"major_label_policy\":{\"id\":\"1104\"},\"ticker\":{\"id\":\"1076\"}},\"id\":\"1075\",\"type\":\"LinearAxis\"},{\"attributes\":{\"coordinates\":null,\"group\":null,\"text\":\"PC1 vs PC2\"},\"id\":\"1005\",\"type\":\"Title\"},{\"attributes\":{\"axis\":{\"id\":\"1071\"},\"coordinates\":null,\"group\":null,\"ticker\":null},\"id\":\"1074\",\"type\":\"Grid\"},{\"attributes\":{\"callback\":null,\"tooltips\":[[\"sample\",\"@sample\"],[\"population\",\"@population\"],[\"coverage\",\"@coverage\"]]},\"id\":\"1086\",\"type\":\"HoverTool\"},{\"attributes\":{\"axis_label\":\"PC2 (16.1%)\",\"coordinates\":null,\"formatter\":{\"id\":\"1047\"},\"group\":null,\"major_label_policy\":{\"id\":\"1048\"},\"ticker\":{\"id\":\"1020\"}},\"id\":\"1019\",\"type\":\"LinearAxis\"},{\"attributes\":{},\"id\":\"1080\",\"type\":\"WheelZoomTool\"},{\"attributes\":{},\"id\":\"1013\",\"type\":\"LinearScale\"},{\"attributes\":{},\"id\":\"1067\",\"type\":\"LinearScale\"},{\"attributes\":{},\"id\":\"1016\",\"type\":\"BasicTicker\"},{\"attributes\":{\"axis_label\":\"PC1 (22.7%)\",\"coordinates\":null,\"formatter\":{\"id\":\"1106\"},\"group\":null,\"major_label_policy\":{\"id\":\"1107\"},\"ticker\":{\"id\":\"1072\"}},\"id\":\"1071\",\"type\":\"LinearAxis\"},{\"attributes\":{},\"id\":\"1009\",\"type\":\"DataRange1d\"},{\"attributes\":{},\"id\":\"1065\",\"type\":\"DataRange1d\"},{\"attributes\":{},\"id\":\"1028\",\"type\":\"HelpTool\"},{\"attributes\":{},\"id\":\"1072\",\"type\":\"BasicTicker\"},{\"attributes\":{\"coordinates\":null,\"group\":null,\"text\":\"PC1 vs PC3\"},\"id\":\"1061\",\"type\":\"Title\"},{\"attributes\":{},\"id\":\"1108\",\"type\":\"UnionRenderers\"},{\"attributes\":{\"data\":{\"PC1\":{\"__ndarray__\":\"o9RFQdd2BkHQxztBDM2gwQPUWcGPDa3AMfIXwYz0Az/Yet9AAtcJQQ==\",\"dtype\":\"float32\",\"order\":\"little\",\"shape\":[10]},\"PC10\":{\"__ndarray__\":\"AAD0tQAAB7YAABq2AAAWtgAAMLYAAMS1AAAUtgAA+LUAwAW2AIACtg==\",\"dtype\":\"float32\",\"order\":\"little\",\"shape\":[10]},\"PC2\":{\"__ndarray__\":\"o4nNwJpKhsCgvqu+azLQwHP1BcE2vL5B+uo7QLY7dcB+rpjAehP1QA==\",\"dtype\":\"float32\",\"order\":\"little\",\"shape\":[10]},\"PC3\":{\"__ndarray__\":\"0d3BwIKKT79jjDJAoLw1vhO43cCH9SrBlD+WQf6eqsD/jJG/9u4YQQ==\",\"dtype\":\"float32\",\"order\":\"little\",\"shape\":[10]},\"PC4\":{\"__ndarray__\":\"XTNWwaPDi8BH7VC/oU4bwRgexEDJaR7ABF5Lvy7agUEc2KJABieDQA==\",\"dtype\":\"float32\",\"order\":\"little\",\"shape\":[10]},\"PC5\":{\"__ndarray__\":\"O8siQHqPpUAwU/u//vYSwQD65LzP1UZAFYgzQaokBkBMquU/siJswQ==\",\"dtype\":\"float32\",\"order\":\"little\",\"shape\":[10]},\"PC6\":{\"__ndarray__\":\"Kb3dQHLSIj9MUVHAEMedvylA8b6yo7G/neXnP6b1D0HcdHLBzAlJQA==\",\"dtype\":\"float32\",\"order\":\"little\",\"shape\":[10]},\"PC7\":{\"__ndarray__\":\"HteRwLrMRkEtGXjAMDqQwC67CEGURI++csbPvyq90MDiBHPAqTOGQA==\",\"dtype\":\"float32\",\"order\":\"little\",\"shape\":[10]},\"PC8\":{\"__ndarray__\":\"OW58wESzjr+kv3NBwzcgv7ZOekAgnIE8SOo/vzKDsL8MieDAJ5aKwA==\",\"dtype\":\"float32\",\"order\":\"little\",\"shape\":[10]},\"PC9\":{\"__ndarray__\":\"XjjeQJ/yHcEVI0q/OmfOwC5rGUGoNT++oecVQHjgq8BRMF8/zgQ7QA==\",\"dtype\":\"float32\",\"order\":\"little\",\"shape\":[10]},\"color\":[\"#8dd3c7\",\"#8dd3c7\",\"#8dd3c7\",\"#8dd3c7\",\"#ffed6f\",\"#ffed6f\",\"#ffed6f\",\"#d6ca66\",\"#d6ca66\",\"#d6ca66\"],\"coverage\":{\"__ndarray__\":\"AAAAAAAA+H8AAAAAAAD4f5nwS/286SBAK01KQbc3JEDogvqWOb0lQFMFo5I6kT9AcEIhAg5BJkAzbf/KShMeQFXZd0XwHyVAkwA1tWxNIkA=\",\"dtype\":\"float64\",\"order\":\"little\",\"shape\":[10]},\"index\":[0,1,2,3,4,5,6,7,8,9],\"population\":[\"CEU\",\"CEU\",\"CEU\",\"CEU\",\"CHB\",\"CHB\",\"CHB\",\"YRI\",\"YRI\",\"YRI\"],\"sample\":[\"CEU-0\",\"CEU-1\",\"CEU-2\",\"CEU-3\",\"CHB-0\",\"CHB-1\",\"CHB-2\",\"YRI-0\",\"YRI-1\",\"YRI-2\"]},\"selected\":{\"id\":\"1109\"},\"selection_policy\":{\"id\":\"1108\"}},\"id\":\"1059\",\"type\":\"ColumnDataSource\"},{\"attributes\":{},\"id\":\"1109\",\"type\":\"Selection\"},{\"attributes\":{\"coordinates\":null,\"group\":null,\"items\":[{\"id\":\"1056\"},{\"id\":\"1057\"},{\"id\":\"1058\"}]},\"id\":\"1055\",\"type\":\"Legend\"},{\"attributes\":{\"tools\":[{\"id\":\"1023\"},{\"id\":\"1024\"},{\"id\":\"1025\"},{\"id\":\"1026\"},{\"id\":\"1027\"},{\"id\":\"1028\"},{\"id\":\"1030\"}]},\"id\":\"1031\",\"type\":\"Toolbar\"},{\"attributes\":{\"fill_alpha\":{\"value\":0.1},\"fill_color\":{\"field\":\"color\"},\"hatch_alpha\":{\"value\":0.1},\"hatch_color\":{\"field\":\"color\"},\"line_alpha\":{\"value\":0.1},\"size\":{\"value\":15},\"x\":{\"field\":\"PC1\"},\"y\":{\"field\":\"PC3\"}},\"id\":\"1097\",\"type\":\"Circle\"},{\"attributes\":{\"fill_alpha\":{\"value\":0.2},\"fill_color\":{\"field\":\"color\"},\"hatch_alpha\":{\"value\":0.2},\"hatch_color\":{\"field\":\"color\"},\"line_alpha\":{\"value\":0.2},\"size\":{\"value\":15},\"x\":{\"field\":\"PC1\"},\"y\":{\"field\":\"PC2\"}},\"id\":\"1042\",\"type\":\"Circle\"},{\"attributes\":{\"index\":4,\"label\":{\"value\":\"CHB\"},\"renderers\":[{\"id\":\"1099\"}]},\"id\":\"1113\",\"type\":\"LegendItem\"},{\"attributes\":{\"tools\":[{\"id\":\"1079\"},{\"id\":\"1080\"},{\"id\":\"1081\"},{\"id\":\"1082\"},{\"id\":\"1083\"},{\"id\":\"1084\"},{\"id\":\"1086\"}]},\"id\":\"1087\",\"type\":\"Toolbar\"},{\"attributes\":{\"data\":{\"PC1\":{\"__ndarray__\":\"o9RFQdd2BkHQxztBDM2gwQPUWcGPDa3AMfIXwYz0Az/Yet9AAtcJQQ==\",\"dtype\":\"float32\",\"order\":\"little\",\"shape\":[10]},\"PC10\":{\"__ndarray__\":\"AAD0tQAAB7YAABq2AAAWtgAAMLYAAMS1AAAUtgAA+LUAwAW2AIACtg==\",\"dtype\":\"float32\",\"order\":\"little\",\"shape\":[10]},\"PC2\":{\"__ndarray__\":\"o4nNwJpKhsCgvqu+azLQwHP1BcE2vL5B+uo7QLY7dcB+rpjAehP1QA==\",\"dtype\":\"float32\",\"order\":\"little\",\"shape\":[10]},\"PC3\":{\"__ndarray__\":\"0d3BwIKKT79jjDJAoLw1vhO43cCH9SrBlD+WQf6eqsD/jJG/9u4YQQ==\",\"dtype\":\"float32\",\"order\":\"little\",\"shape\":[10]},\"PC4\":{\"__ndarray__\":\"XTNWwaPDi8BH7VC/oU4bwRgexEDJaR7ABF5Lvy7agUEc2KJABieDQA==\",\"dtype\":\"float32\",\"order\":\"little\",\"shape\":[10]},\"PC5\":{\"__ndarray__\":\"O8siQHqPpUAwU/u//vYSwQD65LzP1UZAFYgzQaokBkBMquU/siJswQ==\",\"dtype\":\"float32\",\"order\":\"little\",\"shape\":[10]},\"PC6\":{\"__ndarray__\":\"Kb3dQHLSIj9MUVHAEMedvylA8b6yo7G/neXnP6b1D0HcdHLBzAlJQA==\",\"dtype\":\"float32\",\"order\":\"little\",\"shape\":[10]},\"PC7\":{\"__ndarray__\":\"HteRwLrMRkEtGXjAMDqQwC67CEGURI++csbPvyq90MDiBHPAqTOGQA==\",\"dtype\":\"float32\",\"order\":\"little\",\"shape\":[10]},\"PC8\":{\"__ndarray__\":\"OW58wESzjr+kv3NBwzcgv7ZOekAgnIE8SOo/vzKDsL8MieDAJ5aKwA==\",\"dtype\":\"float32\",\"order\":\"little\",\"shape\":[10]},\"PC9\":{\"__ndarray__\":\"XjjeQJ/yHcEVI0q/OmfOwC5rGUGoNT++oecVQHjgq8BRMF8/zgQ7QA==\",\"dtype\":\"float32\",\"order\":\"little\",\"shape\":[10]},\"color\":[\"#8dd3c7\",\"#8dd3c7\",\"#8dd3c7\",\"#8dd3c7\",\"#ffed6f\",\"#ffed6f\",\"#ffed6f\",\"#d6ca66\",\"#d6ca66\",\"#d6ca66\"],\"coverage\":{\"__ndarray__\":\"AAAAAAAA+H8AAAAAAAD4f5nwS/286SBAK01KQbc3JEDogvqWOb0lQFMFo5I6kT9AcEIhAg5BJkAzbf/KShMeQFXZd0XwHyVAkwA1tWxNIkA=\",\"dtype\":\"float64\",\"order\":\"little\",\"shape\":[10]},\"index\":[0,1,2,3,4,5,6,7,8,9],\"population\":[\"CEU\",\"CEU\",\"CEU\",\"CEU\",\"CHB\",\"CHB\",\"CHB\",\"YRI\",\"YRI\",\"YRI\"],\"sample\":[\"CEU-0\",\"CEU-1\",\"CEU-2\",\"CEU-3\",\"CHB-0\",\"CHB-1\",\"CHB-2\",\"YRI-0\",\"YRI-1\",\"YRI-2\"]},\"selected\":{\"id\":\"1165\"},\"selection_policy\":{\"id\":\"1164\"}},\"id\":\"1115\",\"type\":\"ColumnDataSource\"},{\"attributes\":{},\"id\":\"1048\",\"type\":\"AllLabels\"},{\"attributes\":{\"source\":{\"id\":\"1059\"}},\"id\":\"1100\",\"type\":\"CDSView\"},{\"attributes\":{\"coordinates\":null,\"data_source\":{\"id\":\"1059\"},\"glyph\":{\"id\":\"1096\"},\"group\":null,\"hover_glyph\":null,\"muted_glyph\":{\"id\":\"1098\"},\"nonselection_glyph\":{\"id\":\"1097\"},\"view\":{\"id\":\"1100\"}},\"id\":\"1099\",\"type\":\"GlyphRenderer\"},{\"attributes\":{\"fill_alpha\":{\"value\":0.2},\"fill_color\":{\"field\":\"color\"},\"hatch_alpha\":{\"value\":0.2},\"hatch_color\":{\"field\":\"color\"},\"line_alpha\":{\"value\":0.2},\"size\":{\"value\":15},\"x\":{\"field\":\"PC1\"},\"y\":{\"field\":\"PC3\"}},\"id\":\"1098\",\"type\":\"Circle\"},{\"attributes\":{},\"id\":\"1047\",\"type\":\"BasicTickFormatter\"},{\"attributes\":{},\"id\":\"1051\",\"type\":\"AllLabels\"},{\"attributes\":{\"coordinates\":null,\"group\":null,\"items\":[{\"id\":\"1112\"},{\"id\":\"1113\"},{\"id\":\"1114\"}]},\"id\":\"1111\",\"type\":\"Legend\"},{\"attributes\":{},\"id\":\"1053\",\"type\":\"Selection\"},{\"attributes\":{},\"id\":\"1107\",\"type\":\"AllLabels\"},{\"attributes\":{\"source\":{\"id\":\"1003\"}},\"id\":\"1044\",\"type\":\"CDSView\"},{\"attributes\":{\"coordinates\":null,\"data_source\":{\"id\":\"1003\"},\"glyph\":{\"id\":\"1040\"},\"group\":null,\"hover_glyph\":null,\"muted_glyph\":{\"id\":\"1042\"},\"nonselection_glyph\":{\"id\":\"1041\"},\"view\":{\"id\":\"1044\"}},\"id\":\"1043\",\"type\":\"GlyphRenderer\"},{\"attributes\":{},\"id\":\"1139\",\"type\":\"ResetTool\"},{\"attributes\":{},\"id\":\"1050\",\"type\":\"BasicTickFormatter\"},{\"attributes\":{\"fill_alpha\":{\"value\":0.1},\"fill_color\":{\"field\":\"color\"},\"hatch_alpha\":{\"value\":0.1},\"hatch_color\":{\"field\":\"color\"},\"line_alpha\":{\"value\":0.1},\"size\":{\"value\":15},\"x\":{\"field\":\"PC1\"},\"y\":{\"field\":\"PC2\"}},\"id\":\"1041\",\"type\":\"Circle\"},{\"attributes\":{\"index\":0,\"label\":{\"value\":\"CEU\"},\"renderers\":[{\"id\":\"1099\"}]},\"id\":\"1112\",\"type\":\"LegendItem\"},{\"attributes\":{},\"id\":\"1135\",\"type\":\"PanTool\"},{\"attributes\":{},\"id\":\"1106\",\"type\":\"BasicTickFormatter\"},{\"attributes\":{},\"id\":\"1125\",\"type\":\"LinearScale\"},{\"attributes\":{},\"id\":\"1119\",\"type\":\"DataRange1d\"},{\"attributes\":{},\"id\":\"1052\",\"type\":\"UnionRenderers\"},{\"attributes\":{\"below\":[{\"id\":\"1127\"}],\"center\":[{\"id\":\"1130\"},{\"id\":\"1134\"},{\"id\":\"1167\"}],\"height\":400,\"left\":[{\"id\":\"1131\"}],\"renderers\":[{\"id\":\"1155\"}],\"right\":[{\"id\":\"1167\"}],\"title\":{\"id\":\"1117\"},\"toolbar\":{\"id\":\"1143\"},\"toolbar_location\":null,\"width\":400,\"x_range\":{\"id\":\"1119\"},\"x_scale\":{\"id\":\"1123\"},\"y_range\":{\"id\":\"1121\"},\"y_scale\":{\"id\":\"1125\"}},\"id\":\"1116\",\"subtype\":\"Figure\",\"type\":\"Plot\"},{\"attributes\":{},\"id\":\"1138\",\"type\":\"SaveTool\"},{\"attributes\":{\"index\":7,\"label\":{\"value\":\"YRI\"},\"renderers\":[{\"id\":\"1099\"}]},\"id\":\"1114\",\"type\":\"LegendItem\"},{\"attributes\":{\"overlay\":{\"id\":\"1141\"}},\"id\":\"1137\",\"type\":\"BoxZoomTool\"},{\"attributes\":{\"bottom_units\":\"screen\",\"coordinates\":null,\"fill_alpha\":0.5,\"fill_color\":\"lightgrey\",\"group\":null,\"left_units\":\"screen\",\"level\":\"overlay\",\"line_alpha\":1.0,\"line_color\":\"black\",\"line_dash\":[4,4],\"line_width\":2,\"right_units\":\"screen\",\"syncable\":false,\"top_units\":\"screen\"},\"id\":\"1029\",\"type\":\"BoxAnnotation\"},{\"attributes\":{\"coordinates\":null,\"group\":null,\"text\":\"PC2 vs PC3\"},\"id\":\"1117\",\"type\":\"Title\"},{\"attributes\":{},\"id\":\"1140\",\"type\":\"HelpTool\"},{\"attributes\":{},\"id\":\"1104\",\"type\":\"AllLabels\"},{\"attributes\":{\"axis\":{\"id\":\"1131\"},\"coordinates\":null,\"dimension\":1,\"group\":null,\"ticker\":null},\"id\":\"1134\",\"type\":\"Grid\"},{\"attributes\":{\"callback\":null,\"tooltips\":[[\"sample\",\"@sample\"],[\"population\",\"@population\"],[\"coverage\",\"@coverage\"]]},\"id\":\"1142\",\"type\":\"HoverTool\"},{\"attributes\":{},\"id\":\"1132\",\"type\":\"BasicTicker\"},{\"attributes\":{\"fill_alpha\":{\"value\":0.8},\"fill_color\":{\"field\":\"color\"},\"hatch_alpha\":{\"value\":0.8},\"hatch_color\":{\"field\":\"color\"},\"line_alpha\":{\"value\":0.8},\"size\":{\"value\":15},\"x\":{\"field\":\"PC2\"},\"y\":{\"field\":\"PC3\"}},\"id\":\"1152\",\"type\":\"Circle\"},{\"attributes\":{\"axis_label\":\"PC3 (13.0%)\",\"coordinates\":null,\"formatter\":{\"id\":\"1159\"},\"group\":null,\"major_label_policy\":{\"id\":\"1160\"},\"ticker\":{\"id\":\"1132\"}},\"id\":\"1131\",\"type\":\"LinearAxis\"},{\"attributes\":{},\"id\":\"1103\",\"type\":\"BasicTickFormatter\"},{\"attributes\":{},\"id\":\"1136\",\"type\":\"WheelZoomTool\"},{\"attributes\":{},\"id\":\"1123\",\"type\":\"LinearScale\"},{\"attributes\":{\"axis\":{\"id\":\"1127\"},\"coordinates\":null,\"group\":null,\"ticker\":null},\"id\":\"1130\",\"type\":\"Grid\"},{\"attributes\":{\"axis_label\":\"PC2 (16.1%)\",\"coordinates\":null,\"formatter\":{\"id\":\"1162\"},\"group\":null,\"major_label_policy\":{\"id\":\"1163\"},\"ticker\":{\"id\":\"1128\"}},\"id\":\"1127\",\"type\":\"LinearAxis\"},{\"attributes\":{},\"id\":\"1121\",\"type\":\"DataRange1d\"},{\"attributes\":{},\"id\":\"1128\",\"type\":\"BasicTicker\"}],\"root_ids\":[\"1207\"]},\"title\":\"Bokeh Application\",\"version\":\"2.4.3\"}};\n",
       "  const render_items = [{\"docid\":\"f4e390b0-9777-4446-8ec9-182b8a0276c5\",\"root_ids\":[\"1207\"],\"roots\":{\"1207\":\"b1fbb2f8-0bdc-4c89-b2f2-c618e9aa6f56\"}}];\n",
       "  root.Bokeh.embed.embed_items_notebook(docs_json, render_items);\n",
       "  }\n",
       "  if (root.Bokeh !== undefined) {\n",
       "    embed_document(root);\n",
       "  } else {\n",
       "    let attempts = 0;\n",
       "    const timer = setInterval(function(root) {\n",
       "      if (root.Bokeh !== undefined) {\n",
       "        clearInterval(timer);\n",
       "        embed_document(root);\n",
       "      } else {\n",
       "        attempts++;\n",
       "        if (attempts > 100) {\n",
       "          clearInterval(timer);\n",
       "          console.log(\"Bokeh: ERROR: Unable to run BokehJS code because BokehJS library is missing\");\n",
       "        }\n",
       "      }\n",
       "    }, 10, root)\n",
       "  }\n",
       "})(window);"
      ],
      "application/vnd.bokehjs_exec.v0+json": ""
     },
     "metadata": {
      "application/vnd.bokehjs_exec.v0+json": {
       "id": "1207"
      }
     },
     "output_type": "display_data"
    }
   ],
   "source": [
    "from pgip.plotting import bokeh_plot_pca\n",
    "p = bokeh_plot_pca(df, explained, ncomp=3, ncols=2, width=400, height=400)\n",
    "show(p)"
   ]
  }
 ],
 "metadata": {
  "jupytext": {
   "text_representation": {
    "extension": ".md",
    "format_name": "myst",
    "format_version": "0.13.2",
    "jupytext_version": "1.13.8"
   }
  },
  "kernelspec": {
   "display_name": "Python 3",
   "language": "python",
   "name": "pgip"
  },
  "language_info": {
   "codemirror_mode": {
    "name": "ipython",
    "version": 3
   },
   "file_extension": ".py",
   "mimetype": "text/x-python",
   "name": "python",
   "nbconvert_exporter": "python",
   "pygments_lexer": "ipython3",
   "version": "3.9.13"
  },
  "source_map": [
   15,
   20,
   52,
   56,
   59,
   65,
   71,
   76,
   91,
   93,
   95,
   98,
   109,
   116,
   120,
   133,
   139,
   153,
   158,
   165,
   168
  ]
 },
 "nbformat": 4,
 "nbformat_minor": 5
}